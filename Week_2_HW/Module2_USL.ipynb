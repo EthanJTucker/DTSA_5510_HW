{
 "cells": [
  {
   "cell_type": "markdown",
   "metadata": {
    "deletable": false,
    "editable": false,
    "nbgrader": {
     "cell_type": "markdown",
     "checksum": "556d9673a40cef731438819650b4afeb",
     "grade": false,
     "grade_id": "cell-3fab386f48bbd974",
     "locked": true,
     "schema_version": 3,
     "solution": false,
     "task": false
    }
   },
   "source": [
    "### Grading\n",
    "This week's lab doesn't have any auto-graded components. Each question in this notebook has an accompanying Peer Review question. Although the lab shows as being ungraded, you need to complete the notebook to answer the Peer Review questions. <br>\n",
    "**DO NOT CHANGE VARIABLE OR METHOD SIGNATURES** "
   ]
  },
  {
   "cell_type": "markdown",
   "metadata": {
    "deletable": false,
    "editable": false,
    "nbgrader": {
     "cell_type": "markdown",
     "checksum": "19ae55b356f0ad3dfda48f3cb99dddb9",
     "grade": false,
     "grade_id": "cell-9488ace019b4c835",
     "locked": true,
     "schema_version": 3,
     "solution": false,
     "task": false
    }
   },
   "source": [
    "### Validate Button\n",
    "This week's lab doesn't have any auto-graded components. Each question in this notebook has an accompanying Peer Review question. Although the lab shows as being ungraded, you need to complete the notebook to answer the Peer Review questions. \n",
    "\n",
    "You do not need to use the Validate button for this lab since there are no auto-graded components. If you hit the Validate button, it will time out given the number of visualizations in the notebook. Cells with longer execution times cause the validate button to time out and freeze. ***This notebook's Validate button time-out does not affect the final submission grading.*** "
   ]
  },
  {
   "cell_type": "markdown",
   "metadata": {
    "deletable": false,
    "editable": false,
    "id": "local-marketing",
    "nbgrader": {
     "cell_type": "markdown",
     "checksum": "412c0fbff4d9e5401141ed5f953ba132",
     "grade": false,
     "grade_id": "cell-539bfe3db5c0f774",
     "locked": true,
     "schema_version": 3,
     "solution": false,
     "task": false
    }
   },
   "source": [
    "# Clustering RNA sequences to identify cancer types\n",
    "\n",
    "In this assignment, we will use clustering algorithms on RNA sequence data to identify cancer types.\n",
    "Since the [whole data](https://www.synapse.org/#!Synapse:syn4301332) (from [Cancer Genome Atlas Pan-Cancer project](https://www.ncbi.nlm.nih.gov/pmc/articles/PMC3919969/)) is very big, we will use a [subset data from UCI Machine Learning repository](https://archive.ics.uci.edu/ml/datasets/gene+expression+cancer+RNA-Seq#). The subset data contains only 5 labels; BRCA, KIRC, COAD, LUAD and PRAD. The meanings of those labels are as below.\n",
    "\n",
    "|Abbreviation|Cancer|\n",
    "|:----:|:-------:|\n",
    "|LUSC|Lung squamous cell carcinoma |\n",
    "|READ |Rectum adenocarcinoma |\n",
    "|GBM |Glioblastoma multiforme|\n",
    "|BLCA |Bladder Urothelial Carcinoma|\n",
    "|UCEC |Uterine Corpus Endometrioid Carcinoma|\n",
    "|COAD |Colon adenocarcinoma|\n",
    "|OV |Ovarian serous cystadenocarcinoma|\n",
    "|LAML |Acute Myeloid Leukemia|\n",
    "|HNSC |Head and Neck squamous cell carcinoma|\n",
    "|LUAD |Lung adenocarcinoma|\n",
    "|BRCA |Breast invasive carcinoma|\n",
    "|KIRC |Kidney renal clear cell carcinoma|\n",
    "\n",
    "Although we can use the data for supervised learning model training, we will not use these labels for training, but use them for evaluation."
   ]
  },
  {
   "cell_type": "code",
   "execution_count": 122,
   "metadata": {
    "deletable": false,
    "editable": false,
    "id": "ordered-pasta",
    "nbgrader": {
     "cell_type": "code",
     "checksum": "deb30e3992bd6264bc0999a631f4f249",
     "grade": false,
     "grade_id": "cell-aae50706a878da7b",
     "locked": true,
     "schema_version": 3,
     "solution": false,
     "task": false
    }
   },
   "outputs": [],
   "source": [
    "import pandas as pd\n",
    "import matplotlib.pyplot as plt\n",
    "import numpy as np\n",
    "from sklearn.cluster import AgglomerativeClustering, KMeans\n",
    "from sklearn.metrics import accuracy_score, confusion_matrix\n",
    "import time"
   ]
  },
  {
   "cell_type": "code",
   "execution_count": 123,
   "metadata": {
    "deletable": false,
    "editable": false,
    "id": "forbidden-patrol",
    "nbgrader": {
     "cell_type": "code",
     "checksum": "7d54524a953add3d7536b6f813e910b6",
     "grade": false,
     "grade_id": "cell-0349e5e5a7302cd2",
     "locked": true,
     "schema_version": 3,
     "solution": false,
     "task": false
    }
   },
   "outputs": [],
   "source": [
    "# Read data. Do not change the variable names (data, label)\n",
    "data = pd.read_csv('data/data.csv')\n",
    "label = pd.read_csv('data/labels.csv')\n",
    "data=data.drop('Unnamed: 0',axis=1)\n",
    "label=label.drop('Unnamed: 0',axis=1)"
   ]
  },
  {
   "cell_type": "markdown",
   "metadata": {
    "deletable": false,
    "editable": false,
    "id": "universal-consultancy",
    "nbgrader": {
     "cell_type": "markdown",
     "checksum": "70fad3bc72f0de4ef37faa39dbc1aca1",
     "grade": false,
     "grade_id": "cell-a2791930798cf4eb",
     "locked": true,
     "schema_version": 3,
     "solution": false,
     "task": false
    }
   },
   "source": [
    "### A. [Peer Review] Perform basic data inspection or EDA on the pandas dataframe.\n",
    "- How many observations?\n",
    "- How many features?"
   ]
  },
  {
   "cell_type": "code",
   "execution_count": 124,
   "metadata": {
    "deletable": false,
    "nbgrader": {
     "cell_type": "code",
     "checksum": "3b9a724c90825ae8d7bc9a7d59a37620",
     "grade": false,
     "grade_id": "cell-2958c08df1714546",
     "locked": false,
     "schema_version": 3,
     "solution": true,
     "task": false
    }
   },
   "outputs": [
    {
     "name": "stdout",
     "output_type": "stream",
     "text": [
      "<class 'pandas.core.frame.DataFrame'>\n",
      "RangeIndex: 801 entries, 0 to 800\n",
      "Columns: 20531 entries, gene_0 to gene_20530\n",
      "dtypes: float64(20531)\n",
      "memory usage: 125.5 MB\n",
      "None\n"
     ]
    },
    {
     "data": {
      "text/html": [
       "<div>\n",
       "<style scoped>\n",
       "    .dataframe tbody tr th:only-of-type {\n",
       "        vertical-align: middle;\n",
       "    }\n",
       "\n",
       "    .dataframe tbody tr th {\n",
       "        vertical-align: top;\n",
       "    }\n",
       "\n",
       "    .dataframe thead th {\n",
       "        text-align: right;\n",
       "    }\n",
       "</style>\n",
       "<table border=\"1\" class=\"dataframe\">\n",
       "  <thead>\n",
       "    <tr style=\"text-align: right;\">\n",
       "      <th></th>\n",
       "      <th>gene_0</th>\n",
       "      <th>gene_1</th>\n",
       "      <th>gene_2</th>\n",
       "      <th>gene_3</th>\n",
       "      <th>gene_4</th>\n",
       "      <th>gene_5</th>\n",
       "      <th>gene_6</th>\n",
       "      <th>gene_7</th>\n",
       "      <th>gene_8</th>\n",
       "      <th>gene_9</th>\n",
       "      <th>...</th>\n",
       "      <th>gene_20521</th>\n",
       "      <th>gene_20522</th>\n",
       "      <th>gene_20523</th>\n",
       "      <th>gene_20524</th>\n",
       "      <th>gene_20525</th>\n",
       "      <th>gene_20526</th>\n",
       "      <th>gene_20527</th>\n",
       "      <th>gene_20528</th>\n",
       "      <th>gene_20529</th>\n",
       "      <th>gene_20530</th>\n",
       "    </tr>\n",
       "  </thead>\n",
       "  <tbody>\n",
       "    <tr>\n",
       "      <th>0</th>\n",
       "      <td>0.0</td>\n",
       "      <td>2.017209</td>\n",
       "      <td>3.265527</td>\n",
       "      <td>5.478487</td>\n",
       "      <td>10.431999</td>\n",
       "      <td>0.0</td>\n",
       "      <td>7.175175</td>\n",
       "      <td>0.591871</td>\n",
       "      <td>0.0</td>\n",
       "      <td>0.0</td>\n",
       "      <td>...</td>\n",
       "      <td>4.926711</td>\n",
       "      <td>8.210257</td>\n",
       "      <td>9.723516</td>\n",
       "      <td>7.220030</td>\n",
       "      <td>9.119813</td>\n",
       "      <td>12.003135</td>\n",
       "      <td>9.650743</td>\n",
       "      <td>8.921326</td>\n",
       "      <td>5.286759</td>\n",
       "      <td>0.0</td>\n",
       "    </tr>\n",
       "    <tr>\n",
       "      <th>1</th>\n",
       "      <td>0.0</td>\n",
       "      <td>0.592732</td>\n",
       "      <td>1.588421</td>\n",
       "      <td>7.586157</td>\n",
       "      <td>9.623011</td>\n",
       "      <td>0.0</td>\n",
       "      <td>6.816049</td>\n",
       "      <td>0.000000</td>\n",
       "      <td>0.0</td>\n",
       "      <td>0.0</td>\n",
       "      <td>...</td>\n",
       "      <td>4.593372</td>\n",
       "      <td>7.323865</td>\n",
       "      <td>9.740931</td>\n",
       "      <td>6.256586</td>\n",
       "      <td>8.381612</td>\n",
       "      <td>12.674552</td>\n",
       "      <td>10.517059</td>\n",
       "      <td>9.397854</td>\n",
       "      <td>2.094168</td>\n",
       "      <td>0.0</td>\n",
       "    </tr>\n",
       "    <tr>\n",
       "      <th>2</th>\n",
       "      <td>0.0</td>\n",
       "      <td>3.511759</td>\n",
       "      <td>4.327199</td>\n",
       "      <td>6.881787</td>\n",
       "      <td>9.870730</td>\n",
       "      <td>0.0</td>\n",
       "      <td>6.972130</td>\n",
       "      <td>0.452595</td>\n",
       "      <td>0.0</td>\n",
       "      <td>0.0</td>\n",
       "      <td>...</td>\n",
       "      <td>5.125213</td>\n",
       "      <td>8.127123</td>\n",
       "      <td>10.908640</td>\n",
       "      <td>5.401607</td>\n",
       "      <td>9.911597</td>\n",
       "      <td>9.045255</td>\n",
       "      <td>9.788359</td>\n",
       "      <td>10.090470</td>\n",
       "      <td>1.683023</td>\n",
       "      <td>0.0</td>\n",
       "    </tr>\n",
       "    <tr>\n",
       "      <th>3</th>\n",
       "      <td>0.0</td>\n",
       "      <td>3.663618</td>\n",
       "      <td>4.507649</td>\n",
       "      <td>6.659068</td>\n",
       "      <td>10.196184</td>\n",
       "      <td>0.0</td>\n",
       "      <td>7.843375</td>\n",
       "      <td>0.434882</td>\n",
       "      <td>0.0</td>\n",
       "      <td>0.0</td>\n",
       "      <td>...</td>\n",
       "      <td>6.076566</td>\n",
       "      <td>8.792959</td>\n",
       "      <td>10.141520</td>\n",
       "      <td>8.942805</td>\n",
       "      <td>9.601208</td>\n",
       "      <td>11.392682</td>\n",
       "      <td>9.694814</td>\n",
       "      <td>9.684365</td>\n",
       "      <td>3.292001</td>\n",
       "      <td>0.0</td>\n",
       "    </tr>\n",
       "    <tr>\n",
       "      <th>4</th>\n",
       "      <td>0.0</td>\n",
       "      <td>2.655741</td>\n",
       "      <td>2.821547</td>\n",
       "      <td>6.539454</td>\n",
       "      <td>9.738265</td>\n",
       "      <td>0.0</td>\n",
       "      <td>6.566967</td>\n",
       "      <td>0.360982</td>\n",
       "      <td>0.0</td>\n",
       "      <td>0.0</td>\n",
       "      <td>...</td>\n",
       "      <td>5.996032</td>\n",
       "      <td>8.891425</td>\n",
       "      <td>10.373790</td>\n",
       "      <td>7.181162</td>\n",
       "      <td>9.846910</td>\n",
       "      <td>11.922439</td>\n",
       "      <td>9.217749</td>\n",
       "      <td>9.461191</td>\n",
       "      <td>5.110372</td>\n",
       "      <td>0.0</td>\n",
       "    </tr>\n",
       "  </tbody>\n",
       "</table>\n",
       "<p>5 rows × 20531 columns</p>\n",
       "</div>"
      ],
      "text/plain": [
       "   gene_0    gene_1    gene_2    gene_3     gene_4  gene_5    gene_6  \\\n",
       "0     0.0  2.017209  3.265527  5.478487  10.431999     0.0  7.175175   \n",
       "1     0.0  0.592732  1.588421  7.586157   9.623011     0.0  6.816049   \n",
       "2     0.0  3.511759  4.327199  6.881787   9.870730     0.0  6.972130   \n",
       "3     0.0  3.663618  4.507649  6.659068  10.196184     0.0  7.843375   \n",
       "4     0.0  2.655741  2.821547  6.539454   9.738265     0.0  6.566967   \n",
       "\n",
       "     gene_7  gene_8  gene_9  ...  gene_20521  gene_20522  gene_20523  \\\n",
       "0  0.591871     0.0     0.0  ...    4.926711    8.210257    9.723516   \n",
       "1  0.000000     0.0     0.0  ...    4.593372    7.323865    9.740931   \n",
       "2  0.452595     0.0     0.0  ...    5.125213    8.127123   10.908640   \n",
       "3  0.434882     0.0     0.0  ...    6.076566    8.792959   10.141520   \n",
       "4  0.360982     0.0     0.0  ...    5.996032    8.891425   10.373790   \n",
       "\n",
       "   gene_20524  gene_20525  gene_20526  gene_20527  gene_20528  gene_20529  \\\n",
       "0    7.220030    9.119813   12.003135    9.650743    8.921326    5.286759   \n",
       "1    6.256586    8.381612   12.674552   10.517059    9.397854    2.094168   \n",
       "2    5.401607    9.911597    9.045255    9.788359   10.090470    1.683023   \n",
       "3    8.942805    9.601208   11.392682    9.694814    9.684365    3.292001   \n",
       "4    7.181162    9.846910   11.922439    9.217749    9.461191    5.110372   \n",
       "\n",
       "   gene_20530  \n",
       "0         0.0  \n",
       "1         0.0  \n",
       "2         0.0  \n",
       "3         0.0  \n",
       "4         0.0  \n",
       "\n",
       "[5 rows x 20531 columns]"
      ]
     },
     "execution_count": 124,
     "metadata": {},
     "output_type": "execute_result"
    }
   ],
   "source": [
    "# perform basic data inspection such as getting the number of observations and number of features\n",
    "# you can also display part of the dataframe or run data.info() \n",
    "# your code here\n",
    "print(data.info())\n",
    "data.head()"
   ]
  },
  {
   "cell_type": "markdown",
   "metadata": {
    "deletable": false,
    "editable": false,
    "nbgrader": {
     "cell_type": "markdown",
     "checksum": "65492cc771478d0c9c26f1a73857843a",
     "grade": false,
     "grade_id": "cell-bde1524da0e9a63f",
     "locked": true,
     "schema_version": 3,
     "solution": false,
     "task": false
    }
   },
   "source": [
    "- Draw histograms of mean, max and min values in each feature. You may see numbers around 0-20. What do those numbers mean? (We do not expect students to know or figure out the meanings, but if you do know by chance, feel free to discuss them with the class on the discussion board.) <br>\n",
    "Answer the Peer Review question about this section. "
   ]
  },
  {
   "cell_type": "code",
   "execution_count": 125,
   "metadata": {
    "deletable": false,
    "nbgrader": {
     "cell_type": "code",
     "checksum": "b4abf73a9c24337560f0e0557bb0f7df",
     "grade": false,
     "grade_id": "cell-dcce43bb9bf942c0",
     "locked": false,
     "schema_version": 3,
     "solution": true,
     "task": false
    }
   },
   "outputs": [],
   "source": [
    "# draw histograms of mean, max and min values in each feature \n",
    "# your code here\n",
    "np_data = data.to_numpy()\n",
    "means = np.mean(np_data, axis = 0)\n",
    "maxes = np.max(np_data, axis = 0)\n",
    "mins = np.min(np_data, axis = 0)"
   ]
  },
  {
   "cell_type": "code",
   "execution_count": 126,
   "metadata": {},
   "outputs": [
    {
     "data": {
      "image/png": "[encoded data removed]",
      "text/plain": [
       "<Figure size 432x288 with 1 Axes>"
      ]
     },
     "metadata": {
      "needs_background": "light"
     },
     "output_type": "display_data"
    }
   ],
   "source": [
    "plt.hist(means)\n",
    "plt.xlabel(\"Mean Value of Gene\")\n",
    "plt.ylabel(\"Count\")\n",
    "plt.title(\"Mean Value of Gene for all Genes\")\n",
    "plt.show()"
   ]
  },
  {
   "cell_type": "code",
   "execution_count": 127,
   "metadata": {},
   "outputs": [
    {
     "data": {
      "image/png": "[encoded data removed]",
      "text/plain": [
       "<Figure size 432x288 with 1 Axes>"
      ]
     },
     "metadata": {
      "needs_background": "light"
     },
     "output_type": "display_data"
    }
   ],
   "source": [
    "plt.hist(maxes)\n",
    "plt.xlabel(\"Max Value of Gene\")\n",
    "plt.ylabel(\"Count\")\n",
    "plt.title(\"Max Value of Gene for all Genes\")\n",
    "plt.show()"
   ]
  },
  {
   "cell_type": "code",
   "execution_count": 128,
   "metadata": {},
   "outputs": [
    {
     "data": {
      "image/png": "[encoded data removed]",
      "text/plain": [
       "<Figure size 432x288 with 1 Axes>"
      ]
     },
     "metadata": {
      "needs_background": "light"
     },
     "output_type": "display_data"
    }
   ],
   "source": [
    "plt.hist(mins)\n",
    "plt.xlabel(\"Min Value of Gene\")\n",
    "plt.ylabel(\"Count\")\n",
    "plt.title(\"Min Value of Gene for all Genes\")\n",
    "plt.show()"
   ]
  },
  {
   "cell_type": "markdown",
   "metadata": {
    "deletable": false,
    "editable": false,
    "nbgrader": {
     "cell_type": "markdown",
     "checksum": "f10e915af8708dc8de4c6a2a8ca51108",
     "grade": false,
     "grade_id": "cell-6736f47726a243e7",
     "locked": true,
     "schema_version": 3,
     "solution": false,
     "task": false
    }
   },
   "source": [
    "- If we were to train a \"supervised\" learning model, how would you deal with such large feature dimension? \n",
    "- Even after feature dimension reduction, still the number of useful features may be enormous. How it would impact performance or runtime of certain supervised learning algorithms? Which algorithms would suffer from high dimension features than others and why? \n",
    "- How it would impact performance or runtime of an unsupervised learning algorithm?\n",
    "- Draw histograms of mean, max and min values in each feature. You may see numbers around 0-20. What those numbers mean? (We do not expect students to know or figure out the meanings, but if you do know by chance, feel free to discuss them with the class on the discussion board.) <br> <br>\n",
    "Anwer these questions in this week's Peer Review assignment. "
   ]
  },
  {
   "cell_type": "markdown",
   "metadata": {
    "deletable": false,
    "editable": false,
    "nbgrader": {
     "cell_type": "markdown",
     "checksum": "36d2fc3f5b54ad32960f5d4ae52f2100",
     "grade": false,
     "grade_id": "cell-f89786ce6c22a413",
     "locked": true,
     "schema_version": 3,
     "solution": false,
     "task": false
    }
   },
   "source": [
    "### B. [Peer Review] Build a hierarchical clustering model\n",
    "Let's build a model using hierarchical clustering. Hierarchical clustering module is available from `sklearn.cluster.AgglomerativeClustering`. You can choose linkage type and metric. Please check its documentation for more details."
   ]
  },
  {
   "cell_type": "markdown",
   "metadata": {
    "deletable": false,
    "editable": false,
    "nbgrader": {
     "cell_type": "markdown",
     "checksum": "944b291a4ed47f6acd91034c448514b9",
     "grade": false,
     "grade_id": "cell-20bd5000b96709cd",
     "locked": true,
     "schema_version": 3,
     "solution": false,
     "task": false
    }
   },
   "source": [
    "**a) Number of clusters vs distance threshold**\n",
    "Oftentimes hierarchical clustering does not need to know the number of clusters in advance. Instead, one needs to choose threshold distance/similarity to cut the dendrogram later. The AgglomerativeClustering module lets you specify either the number of clusters (n_clusters) or the threshold (distance_threshold). Based on our data, which should we choose to set to which value and why? <br> <br>\n",
    "Answer this question in the Peer Review assignment. "
   ]
  },
  {
   "cell_type": "markdown",
   "metadata": {
    "deletable": false,
    "editable": false,
    "nbgrader": {
     "cell_type": "markdown",
     "checksum": "479da534d14157edc6cab3a8c6dce4b6",
     "grade": false,
     "grade_id": "cell-1dcb3a4ab605373a",
     "locked": true,
     "schema_version": 3,
     "solution": false,
     "task": false
    }
   },
   "source": [
    "#### b) Guess which metric?\n",
    "Can you guess which metric to use (distance-based vs. similarity-based) and why? \n",
    "This question is not graded, but we encourage you to share your thoughts with the class. See the ungraded discussion prompt for this week's material. "
   ]
  },
  {
   "cell_type": "markdown",
   "metadata": {
    "deletable": false,
    "editable": false,
    "nbgrader": {
     "cell_type": "markdown",
     "checksum": "e2681cdcd943f508b334d717be6461f4",
     "grade": false,
     "grade_id": "cell-3bdcbf312ff9cbef",
     "locked": true,
     "schema_version": 3,
     "solution": false,
     "task": false
    }
   },
   "source": [
    "#### c) Build a model\n",
    "Build a model using n_clusters=5 option. Choose any metric and linkage type at first. Display the clustering result labels (you can just print out the result). Do not change the variable (model) name. Answer the question about this section in the Peer Review."
   ]
  },
  {
   "cell_type": "code",
   "execution_count": 129,
   "metadata": {
    "deletable": false,
    "nbgrader": {
     "cell_type": "code",
     "checksum": "7a026cf9b5831deeb187d3b6279c2cbd",
     "grade": false,
     "grade_id": "cell-a182891914c1787d",
     "locked": false,
     "schema_version": 3,
     "solution": true,
     "task": false
    }
   },
   "outputs": [
    {
     "data": {
      "text/plain": [
       "AgglomerativeClustering(affinity='euclidean', compute_full_tree='auto',\n",
       "                        connectivity=None, distance_threshold=None,\n",
       "                        linkage='ward', memory=None, n_clusters=5)"
      ]
     },
     "execution_count": 129,
     "metadata": {},
     "output_type": "execute_result"
    }
   ],
   "source": [
    "from sklearn.cluster import AgglomerativeClustering\n",
    "\n",
    "# build a model using n_clusters=5 option\n",
    "model = AgglomerativeClustering(n_clusters = 5)\n",
    "# your code here\n",
    "model.fit(np_data)"
   ]
  },
  {
   "cell_type": "code",
   "execution_count": 130,
   "metadata": {},
   "outputs": [
    {
     "data": {
      "text/plain": [
       "array([2, 3, 2, 2, 0, 2, 1, 2, 0, 2, 0, 1, 2, 0, 0, 0, 3, 1, 1, 2, 0, 1,\n",
       "       3, 0, 1, 3, 4, 0, 0, 0, 0, 0, 1, 0, 2, 0, 1, 3, 0, 0, 1, 2, 2, 1,\n",
       "       1, 0, 2, 4, 0, 3, 0, 3, 0, 2, 4, 0, 0, 4, 1, 0, 3, 1, 0, 3, 2, 4,\n",
       "       0, 2, 1, 0, 1, 0, 0, 3, 0, 3, 0, 1, 2, 4, 0, 2, 0, 0, 2, 2, 0, 0,\n",
       "       1, 0, 2, 2, 0, 0, 0, 2, 4, 0, 2, 0, 0, 1, 0, 1, 3, 1, 3, 4, 3, 3,\n",
       "       2, 0, 3, 2, 0, 1, 1, 1, 0, 0, 3, 1, 3, 0, 2, 2, 2, 0, 1, 0, 4, 0,\n",
       "       4, 0, 0, 1, 3, 0, 1, 4, 0, 2, 0, 1, 3, 4, 2, 0, 3, 3, 3, 3, 0, 0,\n",
       "       3, 0, 0, 2, 2, 3, 2, 3, 1, 0, 2, 3, 4, 1, 3, 0, 1, 3, 0, 3, 0, 0,\n",
       "       0, 2, 0, 1, 4, 1, 0, 2, 2, 2, 3, 3, 0, 3, 3, 1, 3, 2, 3, 0, 0, 0,\n",
       "       3, 3, 0, 1, 1, 1, 1, 2, 0, 2, 0, 3, 3, 0, 2, 0, 2, 0, 0, 0, 3, 0,\n",
       "       1, 3, 1, 1, 3, 0, 1, 2, 0, 3, 3, 2, 4, 0, 1, 2, 1, 4, 0, 1, 1, 3,\n",
       "       2, 2, 3, 3, 1, 0, 0, 4, 0, 2, 4, 0, 2, 1, 2, 2, 2, 0, 4, 4, 3, 4,\n",
       "       4, 2, 3, 0, 0, 1, 1, 0, 4, 2, 1, 2, 0, 0, 1, 0, 0, 0, 0, 3, 3, 0,\n",
       "       0, 0, 1, 1, 1, 1, 0, 0, 0, 1, 0, 0, 3, 2, 0, 0, 4, 3, 2, 0, 0, 0,\n",
       "       4, 0, 2, 0, 4, 3, 3, 2, 1, 0, 1, 1, 3, 4, 1, 0, 0, 0, 0, 1, 0, 0,\n",
       "       2, 0, 1, 0, 3, 2, 1, 0, 2, 4, 0, 0, 0, 3, 3, 3, 0, 0, 2, 3, 0, 1,\n",
       "       0, 4, 4, 3, 0, 1, 0, 0, 0, 4, 3, 4, 1, 2, 1, 0, 0, 1, 0, 4, 2, 3,\n",
       "       2, 0, 1, 2, 0, 4, 1, 1, 4, 4, 2, 0, 0, 4, 1, 3, 2, 0, 0, 0, 3, 3,\n",
       "       1, 3, 0, 1, 4, 2, 0, 3, 2, 0, 0, 0, 3, 0, 0, 2, 0, 2, 4, 0, 3, 0,\n",
       "       0, 3, 0, 0, 0, 1, 3, 2, 0, 2, 1, 0, 1, 4, 0, 2, 3, 1, 0, 0, 1, 0,\n",
       "       3, 0, 0, 2, 4, 0, 1, 3, 2, 0, 2, 0, 0, 0, 0, 1, 3, 0, 1, 0, 0, 3,\n",
       "       3, 1, 4, 2, 4, 0, 1, 1, 0, 2, 1, 4, 3, 3, 0, 2, 2, 0, 2, 3, 1, 2,\n",
       "       0, 3, 2, 3, 0, 0, 4, 3, 1, 4, 3, 0, 2, 0, 0, 2, 0, 4, 0, 4, 1, 0,\n",
       "       0, 3, 3, 3, 4, 1, 3, 3, 0, 0, 1, 2, 3, 2, 0, 1, 0, 1, 1, 2, 2, 3,\n",
       "       0, 1, 4, 4, 0, 1, 1, 0, 0, 2, 1, 4, 0, 0, 4, 3, 0, 0, 0, 1, 2, 3,\n",
       "       3, 0, 1, 4, 1, 1, 0, 2, 3, 1, 0, 4, 3, 3, 3, 2, 3, 1, 0, 0, 4, 2,\n",
       "       0, 0, 0, 1, 3, 3, 0, 2, 3, 3, 0, 1, 2, 4, 3, 2, 4, 3, 4, 1, 1, 0,\n",
       "       0, 1, 1, 4, 0, 0, 2, 2, 1, 0, 3, 0, 0, 4, 0, 2, 2, 0, 0, 4, 0, 1,\n",
       "       0, 0, 4, 0, 2, 0, 0, 1, 2, 3, 0, 0, 1, 0, 0, 0, 0, 0, 4, 3, 3, 0,\n",
       "       0, 0, 2, 0, 0, 1, 3, 3, 1, 1, 3, 1, 4, 0, 4, 1, 0, 0, 2, 2, 2, 3,\n",
       "       2, 2, 4, 0, 0, 4, 3, 1, 0, 1, 4, 0, 0, 0, 2, 3, 1, 0, 2, 1, 2, 0,\n",
       "       3, 1, 2, 3, 2, 2, 0, 1, 2, 3, 4, 4, 0, 0, 0, 3, 1, 1, 1, 0, 3, 1,\n",
       "       2, 0, 3, 2, 0, 2, 0, 1, 0, 4, 2, 2, 1, 2, 1, 0, 3, 3, 0, 0, 1, 0,\n",
       "       0, 0, 0, 1, 1, 2, 4, 1, 0, 0, 1, 0, 3, 0, 0, 2, 0, 2, 0, 4, 0, 0,\n",
       "       1, 3, 0, 0, 2, 0, 2, 4, 0, 0, 0, 3, 0, 3, 0, 3, 1, 1, 4, 4, 0, 0,\n",
       "       0, 3, 0, 3, 1, 0, 3, 1, 3, 3, 3, 1, 0, 2, 0, 0, 1, 0, 2, 1, 0, 0,\n",
       "       0, 0, 2, 3, 0, 3, 3, 2, 2])"
      ]
     },
     "execution_count": 130,
     "metadata": {},
     "output_type": "execute_result"
    }
   ],
   "source": [
    "model.labels_"
   ]
  },
  {
   "cell_type": "markdown",
   "metadata": {
    "deletable": false,
    "editable": false,
    "nbgrader": {
     "cell_type": "markdown",
     "checksum": "fa88212d918a8521a87412958a95f3ef",
     "grade": false,
     "grade_id": "cell-14da739b5647db81",
     "locked": true,
     "schema_version": 3,
     "solution": false,
     "task": false
    }
   },
   "source": [
    "#### d) Label permuation\n",
    "In clustering, the labels get assigned randomly, so the label numbering won't match the ground truth necessarily. Write a function below to find best matching label ordering based on the accuracy. Do not change the variable names. Answer the question about this section in the Peer Review. "
   ]
  },
  {
   "cell_type": "code",
   "execution_count": 131,
   "metadata": {
    "deletable": false,
    "nbgrader": {
     "cell_type": "code",
     "checksum": "f47665d2983a53c6a92c098e5070fc63",
     "grade": false,
     "grade_id": "cell-82b20e00978bc5e6",
     "locked": false,
     "schema_version": 3,
     "solution": true,
     "task": false
    }
   },
   "outputs": [],
   "source": [
    "import itertools\n",
    "from sklearn.metrics import accuracy_score\n",
    "\n",
    "def label_permute_compare(ytdf,yp,n=5):\n",
    "    \"\"\"\n",
    "    ytdf: labels dataframe object\n",
    "    yp: clustering label prediction output\n",
    "    Returns permuted label order and accuracy. \n",
    "    Example output: (3, 4, 1, 2, 0), 0.74 \n",
    "    \"\"\"\n",
    "    # your code here\n",
    "    \n",
    "    np_labels = ytdf.to_numpy(copy = True)\n",
    "    \n",
    "    # I'll use a maximum liklihood estimator under the assumption that the model has positive predictive power.\n",
    "    ## This first section just determines what the labels mean. Accuracy is computed farther down.\n",
    "    \n",
    "    #Arrange true label names by frequency\n",
    "    temp1 = np.unique(np_labels, return_counts = True)\n",
    "    (true_labs, true_counts) = (temp1[0], temp1[1])\n",
    "    true_index = true_counts.argsort()\n",
    "    true_sort = true_labs[true_index[::-1]]\n",
    "    \n",
    "    #Arrange cluster assignment names by frequency\n",
    "    temp2 = np.unique(yp, return_counts = True)\n",
    "    (pred_labs, pred_counts) = (temp2[0], temp2[1])\n",
    "    pred_index = pred_counts.argsort()\n",
    "    pred_sort = pred_labs[pred_index[::-1]]\n",
    "    \n",
    "    #Stick them together in a dictionary\n",
    "    comparison_dic = dict()\n",
    "    k = true_sort.shape[0]\n",
    "    for i in range(k):\n",
    "        comparison_dic.update({true_sort[i] : pred_sort[i]})\n",
    "    \n",
    "    # Standardize np_labels by replacing the string entries with characters in accordance to comparison_dic\n",
    "    newLabs = list()\n",
    "    for lab in np_labels:\n",
    "        this_val = comparison_dic[lab[0]]\n",
    "        newLabs.append(this_val)\n",
    "    newLabs = np.asarray(newLabs)\n",
    "    \n",
    "    # Compute accuracy of model.\n",
    "    this_accuracy = accuracy_score(y_true = newLabs, y_pred = yp)\n",
    "    \n",
    "    return (comparison_dic, this_accuracy)\n",
    "    "
   ]
  },
  {
   "cell_type": "code",
   "execution_count": 132,
   "metadata": {
    "deletable": false,
    "editable": false,
    "nbgrader": {
     "cell_type": "code",
     "checksum": "cf8892a7991eab729501b9f12fa11ae1",
     "grade": false,
     "grade_id": "cell-e59b3dddfdc36871",
     "locked": true,
     "schema_version": 3,
     "solution": false,
     "task": false
    }
   },
   "outputs": [
    {
     "name": "stdout",
     "output_type": "stream",
     "text": [
      "{'BRCA': 0, 'KIRC': 1, 'LUAD': 3, 'PRAD': 2, 'COAD': 4} 0.9950062421972534\n"
     ]
    }
   ],
   "source": [
    "labelorder, acc = label_permute_compare(label, model.labels_)\n",
    "print(labelorder, acc)"
   ]
  },
  {
   "cell_type": "markdown",
   "metadata": {
    "deletable": false,
    "editable": false,
    "nbgrader": {
     "cell_type": "markdown",
     "checksum": "246f7bd7bd4cacc06d3d8e7b0811e06b",
     "grade": false,
     "grade_id": "cell-2dee0f590af15ca1",
     "locked": true,
     "schema_version": 3,
     "solution": false,
     "task": false
    }
   },
   "source": [
    "#### e) Check confusion matrix\n",
    "Use sklearn's confusion matrix and display the results. Answer the Peer Review question about this section.  "
   ]
  },
  {
   "cell_type": "code",
   "execution_count": 135,
   "metadata": {
    "deletable": false,
    "nbgrader": {
     "cell_type": "code",
     "checksum": "7db659d69e66d44725a24b1f90796541",
     "grade": false,
     "grade_id": "cell-b7fe98331f7b544f",
     "locked": false,
     "schema_version": 3,
     "solution": true,
     "task": false
    }
   },
   "outputs": [
    {
     "data": {
      "text/plain": [
       "array([[299,   0,   0,   1,   0],\n",
       "       [  0, 146,   0,   0,   0],\n",
       "       [  0,   0, 136,   0,   0],\n",
       "       [  2,   0,   0, 139,   0],\n",
       "       [  0,   0,   0,   1,  77]])"
      ]
     },
     "execution_count": 135,
     "metadata": {},
     "output_type": "execute_result"
    }
   ],
   "source": [
    "# display confusion matrix here \n",
    "# your code here\n",
    "from sklearn.metrics import confusion_matrix, make_scorer\n",
    "\n",
    "# I'm just going to repeat most of the code from part (d) because it converts the true labels into a form that sklearn likes\n",
    "def makeConfusionMatrix(input_model, input_labeldf):\n",
    "    \"\"\"\n",
    "    This function just makes a confusion matrix given a model and true labels.\n",
    "    Input: pandas.DataFrame input_labeldf, sklearn.cluster.AgglomerativeClustering input_model\n",
    "    Output: np.ndarray this_matrix\n",
    "    \"\"\"\n",
    "    np_labels = input_labeldf.to_numpy(copy = True)\n",
    "    yp = input_model.labels_\n",
    "\n",
    "    #Arrange true label names by frequency\n",
    "    temp1 = np.unique(np_labels, return_counts = True)\n",
    "    (true_labs, true_counts) = (temp1[0], temp1[1])\n",
    "    true_index = true_counts.argsort()\n",
    "    true_sort = true_labs[true_index[::-1]]\n",
    "\n",
    "    #Arrange cluster assignment names by frequency\n",
    "    temp2 = np.unique(yp, return_counts = True)\n",
    "    (pred_labs, pred_counts) = (temp2[0], temp2[1])\n",
    "    pred_index = pred_counts.argsort()\n",
    "    pred_sort = pred_labs[pred_index[::-1]]\n",
    "\n",
    "    #Stick them together in a dictionary\n",
    "    comparison_dic = dict()\n",
    "    k = true_sort.shape[0]\n",
    "    for i in range(k):\n",
    "        comparison_dic.update({true_sort[i] : pred_sort[i]})\n",
    "\n",
    "    # Standardize np_labels by replacing the string entries with characters in accordance to comparison_dic\n",
    "    newLabs = list()\n",
    "    for lab in np_labels:\n",
    "        this_val = comparison_dic[lab[0]]\n",
    "        newLabs.append(this_val)\n",
    "    newLabs = np.asarray(newLabs)\n",
    "\n",
    "    #Make the Confusion Matrix\n",
    "    this_matrix = confusion_matrix(y_true = newLabs, y_pred = yp)\n",
    "    return(this_matrix)\n",
    "\n",
    "makeConfusionMatrix(model, label)"
   ]
  },
  {
   "cell_type": "markdown",
   "metadata": {
    "deletable": false,
    "editable": false,
    "nbgrader": {
     "cell_type": "markdown",
     "checksum": "49b995d1748051a814f09ae8878096cd",
     "grade": false,
     "grade_id": "cell-b51181ebab84b037",
     "locked": true,
     "schema_version": 3,
     "solution": false,
     "task": false
    }
   },
   "source": [
    "#### f) Change linkage method and distance metric. Which ones lead the best performance? Print out the accuracy and confusion matrix for the best model.\n",
    "<br> Answer the Peer Review questions about this section. "
   ]
  },
  {
   "cell_type": "code",
   "execution_count": 142,
   "metadata": {
    "deletable": false,
    "nbgrader": {
     "cell_type": "code",
     "checksum": "a13e0521cb941ebbe96ef06b0f48bf8c",
     "grade": false,
     "grade_id": "cell-03953f78e5852c9a",
     "locked": false,
     "schema_version": 3,
     "solution": true,
     "task": false
    }
   },
   "outputs": [
    {
     "name": "stdout",
     "output_type": "stream",
     "text": [
      "The model with distance metric \" euclidean \" and linkage \" complete \" yielded an accuracy of  0.5755305867665418\n",
      "The model with distance metric \" euclidean \" and linkage \" average \" yielded an accuracy of  0.3620474406991261\n",
      "The model with distance metric \" euclidean \" and linkage \" single \" yielded an accuracy of  0.3732833957553059\n",
      "The model with distance metric \" l1 \" and linkage \" complete \" yielded an accuracy of  0.5168539325842697\n",
      "The model with distance metric \" l1 \" and linkage \" average \" yielded an accuracy of  0.36329588014981273\n",
      "The model with distance metric \" l1 \" and linkage \" single \" yielded an accuracy of  0.37203495630461925\n",
      "The model with distance metric \" l2 \" and linkage \" complete \" yielded an accuracy of  0.5755305867665418\n",
      "The model with distance metric \" l2 \" and linkage \" average \" yielded an accuracy of  0.3620474406991261\n",
      "The model with distance metric \" l2 \" and linkage \" single \" yielded an accuracy of  0.3732833957553059\n",
      "The model with distance metric \" manhattan \" and linkage \" complete \" yielded an accuracy of  0.5168539325842697\n",
      "The model with distance metric \" manhattan \" and linkage \" average \" yielded an accuracy of  0.36329588014981273\n",
      "The model with distance metric \" manhattan \" and linkage \" single \" yielded an accuracy of  0.37203495630461925\n",
      "The model with distance metric \" cosine \" and linkage \" complete \" yielded an accuracy of  0.5081148564294632\n",
      "The model with distance metric \" cosine \" and linkage \" average \" yielded an accuracy of  0.3620474406991261\n",
      "The model with distance metric \" cosine \" and linkage \" single \" yielded an accuracy of  0.3732833957553059\n",
      "The best model had metric \" euclidean \" and linkage \" ward \". It had an accuracy of 0.9950062421972534\n"
     ]
    },
    {
     "data": {
      "text/plain": [
       "array([[299,   0,   0,   1,   0],\n",
       "       [  0, 146,   0,   0,   0],\n",
       "       [  0,   0, 136,   0,   0],\n",
       "       [  2,   0,   0, 139,   0],\n",
       "       [  0,   0,   0,   1,  77]])"
      ]
     },
     "execution_count": 142,
     "metadata": {},
     "output_type": "execute_result"
    }
   ],
   "source": [
    "# programmatically evaluate which linkage method and distance metric lead to the best performance\n",
    "# your code here\n",
    "\n",
    "#Note that GridSearchCV does not work on a AggolomerativeClustering object because it does not contain a predict method.\n",
    "metric_to_try = [\"euclidean\", \"l1\", \"l2\", \"manhattan\", \"cosine\"]\n",
    "linkage_to_try = [\"complete\", \"average\", \"single\"]\n",
    "current_best_model = model\n",
    "current_best_acc = acc\n",
    "current_best_metric = \"euclidean\"\n",
    "current_best_linkage = \"ward\"\n",
    "\n",
    "for metric in metric_to_try:\n",
    "    for linkage in linkage_to_try:\n",
    "        this_model = AgglomerativeClustering(n_clusters = 5, affinity = metric, linkage = linkage)\n",
    "        this_model.fit(np_data)\n",
    "        this_accuracy = label_permute_compare(label, this_model.labels_)[1]\n",
    "        print(\"The model with distance metric \\\"\", metric, \"\\\" and linkage \\\"\", linkage, \"\\\" yielded an accuracy of \", this_accuracy)\n",
    "        \n",
    "        if this_accuracy > current_best_acc:\n",
    "            current_best_acc = this_accuracy\n",
    "            current_best_metric = metric\n",
    "            current_best_linkage = linkage\n",
    "            current_best_model = this_model\n",
    "            \n",
    "print(\"The best model had metric \\\"\", current_best_metric, \"\\\" and linkage \\\"\", current_best_linkage, \"\\\". It had an accuracy of\", current_best_acc)\n",
    "\n",
    "makeConfusionMatrix(current_best_model, label)"
   ]
  },
  {
   "cell_type": "markdown",
   "metadata": {
    "deletable": false,
    "editable": false,
    "nbgrader": {
     "cell_type": "markdown",
     "checksum": "9eeef63c833a862a824bd957b4569d81",
     "grade": false,
     "grade_id": "cell-6cd5993178e6f606",
     "locked": true,
     "schema_version": 3,
     "solution": false,
     "task": false
    }
   },
   "source": [
    "### C. What about k-means clustering?\n",
    "Can we apply kmeans clustering on this data? Which clustering methods give a better performance? Is kmeans faster or slower?"
   ]
  },
  {
   "cell_type": "code",
   "execution_count": 154,
   "metadata": {
    "deletable": false,
    "nbgrader": {
     "cell_type": "code",
     "checksum": "ff50d6cc5b9fbf0fface11dad35bfaba",
     "grade": false,
     "grade_id": "cell-2f77201b65ef6a7a",
     "locked": false,
     "schema_version": 3,
     "solution": true,
     "task": false
    }
   },
   "outputs": [
    {
     "name": "stdout",
     "output_type": "stream",
     "text": [
      "The model with algorithm \" elkan \" and centroid initialization \" random \" yielded an accuracy of  0.9937578027465668\n",
      "The model with algorithm \" elkan \" and centroid initialization \" k-means++ \" yielded an accuracy of  0.9925093632958801\n",
      "The model with algorithm \" auto \" and centroid initialization \" random \" yielded an accuracy of  0.9937578027465668\n",
      "The model with algorithm \" auto \" and centroid initialization \" k-means++ \" yielded an accuracy of  0.9925093632958801\n",
      "The best kmeans Clustering Model had algorithm \" elkan \"and centroid initialization \" k-means++\n"
     ]
    }
   ],
   "source": [
    "# try to apply kmeans clustering on this data\n",
    "# time kmeans to compare to hierarchical clustering \n",
    "# your code here\n",
    "from time import time\n",
    "from sklearn.cluster import KMeans\n",
    "alg_to_try = [\"elkan\", \"auto\"]\n",
    "init_to_try = [\"random\", \"k-means++\"]\n",
    "current_best_acc = 0\n",
    "\n",
    "for alg in alg_to_try:\n",
    "    for init in init_to_try:\n",
    "        this_kmeans = KMeans(n_clusters = 5, random_state = 42, init = init, algorithm = alg)\n",
    "        this_kmeans.fit(np_data)\n",
    "        this_accuracy = label_permute_compare(label, this_kmeans.labels_)[1]\n",
    "        print(\"The model with algorithm \\\"\", alg, \"\\\" and centroid initialization \\\"\", init, \"\\\" yielded an accuracy of \", this_accuracy)\n",
    "        \n",
    "        if this_accuracy > current_best_acc:\n",
    "            current_best_acc = this_accuracy\n",
    "            current_best_alg = alg\n",
    "            current_best_init = init\n",
    "            current_best_model = this_kmeans\n",
    "\n",
    "print(\"The best kmeans Clustering Model had algorithm \\\"\", current_best_alg, \"\\\"and centroid initialization \\\"\", init)\n"
   ]
  },
  {
   "cell_type": "code",
   "execution_count": 157,
   "metadata": {},
   "outputs": [
    {
     "data": {
      "text/plain": [
       "array([[ 77,   1,   0,   0,   0],\n",
       "       [  0, 139,   0,   2,   0],\n",
       "       [  0,   0, 145,   1,   0],\n",
       "       [  0,   1,   0, 299,   0],\n",
       "       [  0,   0,   0,   0, 136]])"
      ]
     },
     "execution_count": 157,
     "metadata": {},
     "output_type": "execute_result"
    }
   ],
   "source": [
    "makeConfusionMatrix(current_best_model, label)"
   ]
  },
  {
   "cell_type": "code",
   "execution_count": 155,
   "metadata": {},
   "outputs": [
    {
     "name": "stdout",
     "output_type": "stream",
     "text": [
      "The total training time for the best k-means Clustering Model was 6.458524703979492 seconds\n"
     ]
    }
   ],
   "source": [
    "startTime = time()\n",
    "current_best_model.fit(np_data)\n",
    "endTime = time()\n",
    "totalTime = endTime - startTime\n",
    "print(\"The total training time for the best k-means Clustering Model was\", totalTime, \"seconds\")"
   ]
  },
  {
   "cell_type": "code",
   "execution_count": 156,
   "metadata": {},
   "outputs": [
    {
     "name": "stdout",
     "output_type": "stream",
     "text": [
      "The total training time for the best Agglomerative Clustering model was 5.54615330696106 seconds\n"
     ]
    }
   ],
   "source": [
    "#Training time of AgglomerativeClustering\n",
    "agglo = AgglomerativeClustering(n_clusters = 5)\n",
    "startTime = time()\n",
    "agglo.fit(np_data)\n",
    "endTime = time()\n",
    "totalTime = endTime - startTime\n",
    "print(\"The total training time for the best Agglomerative Clustering model was\", totalTime, \"seconds\")"
   ]
  }
 ],
 "metadata": {
  "colab": {
   "name": "HW2-clustering.ipynb",
   "provenance": []
  },
  "kernelspec": {
   "display_name": "Python 3",
   "language": "python",
   "name": "python3"
  },
  "language_info": {
   "codemirror_mode": {
    "name": "ipython",
    "version": 3
   },
   "file_extension": ".py",
   "mimetype": "text/x-python",
   "name": "python",
   "nbconvert_exporter": "python",
   "pygments_lexer": "ipython3",
   "version": "3.7.6"
  }
 },
 "nbformat": 4,
 "nbformat_minor": 5
}
